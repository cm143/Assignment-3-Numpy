{
 "cells": [
  {
   "cell_type": "code",
   "execution_count": null,
   "id": "3d69adc1-d10e-4cc4-915c-ac11e8972ee1",
   "metadata": {},
   "outputs": [],
   "source": [
    "import numpy as np\n",
    "basketball_data = np.loadtxt('NBA_Player_Stats.txt', delimiter = ',')\n",
    "1999-2000\n",
    "2019-2020\n",
    "field_goal = #divide the values of field goals by attempts made#\n",
    "three_point = #divide the values of three points by attempts made#\n",
    "free_throw = #divide the values of free throws by attempts made#\n",
    "avg_points = #divide the points scored by minutes played#\n",
    "accuracy = field_goal + three_point + free_throw\n",
    "blocks = #divide blocks by games played#\n",
    "steals = #divide steals by games played#\n",
    "top_100 = "
   ]
  },
  {
   "cell_type": "code",
   "execution_count": null,
   "id": "3cb4a195-7bf9-461f-8cf9-49a04860ef92",
   "metadata": {},
   "outputs": [],
   "source": []
  }
 ],
 "metadata": {
  "kernelspec": {
   "display_name": "Python 3 (ipykernel)",
   "language": "python",
   "name": "python3"
  },
  "language_info": {
   "codemirror_mode": {
    "name": "ipython",
    "version": 3
   },
   "file_extension": ".py",
   "mimetype": "text/x-python",
   "name": "python",
   "nbconvert_exporter": "python",
   "pygments_lexer": "ipython3",
   "version": "3.11.5"
  }
 },
 "nbformat": 4,
 "nbformat_minor": 5
}
